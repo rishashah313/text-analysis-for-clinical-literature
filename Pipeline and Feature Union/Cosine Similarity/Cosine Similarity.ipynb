{
 "cells": [
  {
   "cell_type": "code",
   "execution_count": 6,
   "metadata": {},
   "outputs": [
    {
     "data": {
      "text/plain": [
       "'IUD intrauterine IUI implant \"contraceptive implant\", \"contraceptive device\", \"contraceptive shot\", \"control shot\", \"Depo Provera\", \"Depo\",\"LARC\",\"Depo-Provera\",\"Long-Acting\", condom,\"contraceptive pill\",\"control pill\", diaphragm, spermicide, \"contraceptive patch\", \"control patch\", \"vaginal ring\", \"control ring\", \"contraceptive ring\", \"cervical cap\", \"emergency contraception\"'"
      ]
     },
     "execution_count": 6,
     "metadata": {},
     "output_type": "execute_result"
    }
   ],
   "source": [
    "from sklearn.feature_extraction.text import CountVectorizer\n",
    "from sklearn.metrics.pairwise import cosine_similarity\n",
    "import pandas as pd\n",
    "\n",
    "from nltk.stem import PorterStemmer\n",
    "import re\n",
    "\n",
    "testdf = pd.read_csv(\"data file.csv\")\n",
    "test_doc = testdf['Text']\n",
    "\n",
    "#test vocabulary\n",
    "test_doc[0]\n",
    "\n"
   ]
  },
  {
   "cell_type": "code",
   "execution_count": 7,
   "metadata": {},
   "outputs": [
    {
     "name": "stdout",
     "output_type": "stream",
     "text": [
      "[1.00000000e+00 2.39535239e-02 1.15433780e-01 1.74724042e-01\n",
      " 8.91344555e-02 2.83124562e-02 4.73878826e-02 7.90976922e-02\n",
      " 9.14275849e-02 1.23216015e-01 5.03139737e-02 2.39332281e-01\n",
      " 2.31713420e-01 6.44941217e-02 5.74135280e-02 1.51906906e-01\n",
      " 5.73770501e-02 6.59332172e-03 9.75432481e-02 6.52911450e-02\n",
      " 2.91848181e-02 7.67899887e-02 1.23443038e-01 2.95826909e-02\n",
      " 6.34314910e-02 2.23207827e-01 2.09365533e-02 1.79550732e-02\n",
      " 2.55757861e-02 1.44578053e-02 6.91131312e-02 4.31728868e-02\n",
      " 5.49591933e-02 5.21532055e-02 2.97440275e-02 1.02498784e-01\n",
      " 6.29062609e-02 1.93199896e-02 5.76687460e-02 1.38957594e-02\n",
      " 7.05828485e-02 4.43910224e-02 5.06746643e-02 4.78221416e-02\n",
      " 3.37139110e-02 2.84908243e-02 7.26206364e-02 1.96053628e-01\n",
      " 1.00722978e-03 7.90199606e-02 9.81292371e-04 1.00044781e-01\n",
      " 1.68715485e-01 7.53934014e-02 5.23558415e-02 3.33830557e-02\n",
      " 1.71895985e-01 5.47320932e-02 1.95514655e-01 7.19945180e-02\n",
      " 9.22332680e-02 1.01793263e-01 2.16432300e-02 1.76501201e-01\n",
      " 9.25702278e-02 1.93759938e-01 3.59349090e-02 3.45324666e-02\n",
      " 1.24114270e-01 4.95234839e-02 3.73326046e-03 1.96053628e-01\n",
      " 9.80274388e-03 2.09365533e-02 1.55140711e-01 7.84627054e-02\n",
      " 1.57184371e-01 8.89228682e-02 1.14731457e-01 1.77314552e-01\n",
      " 9.35267766e-02 1.02931932e-01 1.68909581e-02 4.27936040e-02\n",
      " 5.80814414e-02 1.77428616e-01 1.64409669e-01 8.24610818e-02\n",
      " 1.05712196e-01 3.97217126e-02 1.19845917e-02 2.63659123e-02\n",
      " 7.48125540e-02 7.11229150e-02 5.85162683e-02 4.85702720e-02\n",
      " 2.23835054e-02 9.30842468e-02 1.46125607e-02 1.98107213e-01\n",
      " 1.71083233e-01 1.71083233e-01 1.42399871e-02 1.23269148e-01\n",
      " 3.72760841e-02 1.26958747e-01 7.25212931e-03 1.62677248e-02\n",
      " 7.63641637e-02 2.68029395e-01 1.31615511e-01 7.08377446e-02\n",
      " 8.67800500e-02 8.65703861e-02 7.67899887e-02 1.50052753e-02\n",
      " 3.93651429e-02 3.39062065e-02 2.89184043e-02 3.04094998e-02\n",
      " 9.79968387e-03 7.48808995e-02 6.74203337e-02 5.30129821e-02\n",
      " 2.25342935e-02 6.03680713e-02 3.75428274e-02 1.22615854e-01\n",
      " 2.98643229e-02 7.38076558e-02 4.33481338e-02 4.94166211e-02\n",
      " 2.27275395e-01 4.98457170e-02 1.05111370e-01 4.77164116e-02\n",
      " 6.92351813e-02 1.15550004e-02 9.25103267e-02 3.29137913e-01\n",
      " 1.65500467e-02 1.49656242e-01 1.04446031e-02 1.76126256e-02\n",
      " 1.93449674e-01 1.45698532e-02 1.17585961e-01 3.37646393e-02\n",
      " 1.93955860e-02 6.98078601e-02 1.15462131e-01 2.08143780e-01]\n"
     ]
    }
   ],
   "source": [
    "\n",
    "def get_stemmed_data(data):\n",
    "    corpus = []\n",
    "    for i in range(len(data)):\n",
    "\n",
    "        text = re.sub('[^a-zA-Z]', ' ', data['Text'].values[i])  # for 1st review i = 0\n",
    "        text = text.split()\n",
    "        ps = PorterStemmer()\n",
    "        text = [ps.stem(word) for word in text]\n",
    "        text = ' '.join(text)\n",
    "        corpus.append(text)\n",
    "    return corpus\n",
    "\n",
    "stemmed_training_data = get_stemmed_data(testdf)\n",
    "\n",
    "#tranform on count vectorizer\n",
    "count_vect = CountVectorizer()\n",
    "X_train_counts = count_vect.fit_transform(stemmed_training_data)\n",
    "\n",
    "pd.DataFrame(X_train_counts.toarray(),columns=count_vect.get_feature_names(),index=range(len(test_doc)))\n",
    "output_df = pd.DataFrame(index=range(len(test_doc)))\n",
    "\n",
    "#compute cosine similarity\n",
    "\n",
    "multi_arr = cosine_similarity(X_train_counts[0], X_train_counts)\n",
    "arr = multi_arr[0]\n",
    "print(arr)\n",
    "output_df['Cosine'] = pd.DataFrame(arr) \n",
    "output_df.to_csv('Cosine_op.csv')\n",
    "\n"
   ]
  }
 ],
 "metadata": {
  "kernelspec": {
   "display_name": "Python 3",
   "language": "python",
   "name": "python3"
  },
  "language_info": {
   "codemirror_mode": {
    "name": "ipython",
    "version": 3
   },
   "file_extension": ".py",
   "mimetype": "text/x-python",
   "name": "python",
   "nbconvert_exporter": "python",
   "pygments_lexer": "ipython3",
   "version": "3.7.2"
  }
 },
 "nbformat": 4,
 "nbformat_minor": 2
}
